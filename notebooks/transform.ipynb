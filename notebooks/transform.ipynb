{
 "cells": [
  {
   "cell_type": "code",
   "execution_count": null,
   "metadata": {},
   "outputs": [],
   "source": [
    "import numpy as np\n",
    "from src.data.components.gen_data import ChessDataLoader\n",
    "\n",
    "loader = ChessDataLoader()\n",
    "data, labels, fens, stockfish_evals = loader.load_data(\"../data/train_1000_gen_cases.npz\")\n",
    "scaled_stockfish_evals = np.tanh(stockfish_evals)\n",
    "loader.save_data(\n",
    "    data, labels, fens, scaled_stockfish_evals, \"../data/transformed_train_1000_gen_cases.npz\"\n",
    ")"
   ]
  },
  {
   "cell_type": "code",
   "execution_count": null,
   "metadata": {},
   "outputs": [],
   "source": []
  }
 ],
 "metadata": {
  "kernelspec": {
   "display_name": "chess",
   "language": "python",
   "name": "python3"
  },
  "language_info": {
   "codemirror_mode": {
    "name": "ipython",
    "version": 3
   },
   "file_extension": ".py",
   "mimetype": "text/x-python",
   "name": "python",
   "nbconvert_exporter": "python",
   "pygments_lexer": "ipython3",
   "version": "3.11.5"
  }
 },
 "nbformat": 4,
 "nbformat_minor": 2
}
