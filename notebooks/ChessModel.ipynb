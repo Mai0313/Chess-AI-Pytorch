{
 "cells": [
  {
   "cell_type": "markdown",
   "metadata": {},
   "source": [
    "### About this project\n",
    "\n",
    "#### This notebook will guide you how you train an AI model for Chess."
   ]
  },
  {
   "cell_type": "markdown",
   "metadata": {},
   "source": [
    "#### Convert Chessboard to np array"
   ]
  },
  {
   "cell_type": "code",
   "execution_count": null,
   "metadata": {},
   "outputs": [],
   "source": [
    "import chess\n",
    "import numpy as np\n",
    "\n",
    "\n",
    "class ChessData:\n",
    "    def __init__(self):\n",
    "        pass\n",
    "\n",
    "    def convert(self, board: chess.Board) -> np.ndarray:\n",
    "        board_array = np.zeros((8, 8, 12), dtype=np.float32)\n",
    "        piece_idx = {\n",
    "            \"p\": 0,\n",
    "            \"P\": 6,\n",
    "            \"n\": 1,\n",
    "            \"N\": 7,\n",
    "            \"b\": 2,\n",
    "            \"B\": 8,\n",
    "            \"r\": 3,\n",
    "            \"R\": 9,\n",
    "            \"q\": 4,\n",
    "            \"Q\": 10,\n",
    "            \"k\": 5,\n",
    "            \"K\": 11,\n",
    "        }\n",
    "\n",
    "        for square in chess.SQUARES:\n",
    "            piece = board.piece_at(square)\n",
    "            if piece:\n",
    "                rank, file = divmod(square, 8)\n",
    "                board_array[7 - rank, file, piece_idx[piece.symbol()]] = 1.0\n",
    "        return board_array\n",
    "    \n"
   ]
  },
  {
   "cell_type": "markdown",
   "metadata": {},
   "source": [
    "#### Save/Load Chessboard\n",
    "\n",
    "Simpiy use npz to save/load chessboard"
   ]
  },
  {
   "cell_type": "code",
   "execution_count": null,
   "metadata": {},
   "outputs": [],
   "source": [
    "import os\n",
    "\n",
    "import numpy as np\n",
    "\n",
    "\n",
    "def save_data(data, labels, file_name):\n",
    "    # Function to save data\n",
    "    np.savez(file_name, data=data, labels=labels)\n",
    "\n",
    "\n",
    "def load_data(file_name):\n",
    "    # Function to load data\n",
    "    loaded_data = np.load(file_name)\n",
    "    return loaded_data['data'], loaded_data['labels']\n",
    "\n",
    "\n",
    "def merge_saved_data(output_filename):\n",
    "    folder_path = \"../data/temp\"\n",
    "    all_data = []\n",
    "    all_labels = []\n",
    "    for file_name in os.listdir(folder_path):\n",
    "        if file_name.endswith(\".npz\"):\n",
    "            file_path = f\"{folder_path}/{file_name}\"\n",
    "            data, labels = load_data(file_path)\n",
    "            all_data.extend(data)\n",
    "            all_labels.extend(labels)\n",
    "\n",
    "    all_data = np.array(all_data)\n",
    "    all_labels = np.array(all_labels)\n",
    "    save_data(all_data, all_labels, output_filename)"
   ]
  },
  {
   "cell_type": "markdown",
   "metadata": {},
   "source": [
    "#### Convert pgn files from real word to npz\n",
    "\n",
    "This part will convert pgn files to npz files.\n",
    "\n",
    "Data Source: [pgnmentor](https://www.pgnmentor.com/files.html#players)."
   ]
  },
  {
   "cell_type": "code",
   "execution_count": null,
   "metadata": {},
   "outputs": [],
   "source": [
    "import os\n",
    "import zipfile\n",
    "from concurrent.futures import ThreadPoolExecutor\n",
    "\n",
    "import requests\n",
    "from bs4 import BeautifulSoup\n",
    "\n",
    "\n",
    "def download_file(file_url: str, output_folder: str, file_type: str):\n",
    "    # **DO NOT RUN IT** IF YOU DO NOT KNOW WHAT YOU ARE DOING\n",
    "    if file_url and file_url.endswith(file_type):\n",
    "        full_url = f\"https://www.pgnmentor.com/{file_url}\"\n",
    "        file_name = os.path.join(output_folder, file_url.split('/')[-1])\n",
    "        with requests.get(full_url) as r:\n",
    "            with open(file_name, 'wb') as f:\n",
    "                f.write(r.content)\n",
    "        print(f\"Downloaded {file_name}\")\n",
    "\n",
    "\n",
    "def download_files(url, output_folder, file_type: str = \".zip\"):\n",
    "    # **DO NOT RUN IT** IF YOU DO NOT KNOW WHAT YOU ARE DOING\n",
    "    os.makedirs(output_folder, exist_ok=True)\n",
    "    response = requests.get(url)\n",
    "    soup = BeautifulSoup(response.text, 'html.parser')\n",
    "    file_urls = [link.get('href') for link in soup.find_all('a') if link.get('href') and link.get('href').endswith(file_type)]\n",
    "    with ThreadPoolExecutor() as executor:\n",
    "        executor.map(lambda file_url: download_file(file_url, output_folder, file_type), file_urls)\n",
    "\n",
    "\n",
    "def unzip_files(input_folder, output_folder):\n",
    "    # **DO NOT RUN IT** IF YOU DO NOT KNOW WHAT YOU ARE DOING\n",
    "    os.makedirs(output_folder, exist_ok=True)\n",
    "    for filename in os.listdir(input_folder):\n",
    "        if filename.endswith(\".zip\"):\n",
    "            zip_path = os.path.join(input_folder, filename)\n",
    "            with zipfile.ZipFile(zip_path, 'r') as zip_ref:\n",
    "                zip_ref.extractall(output_folder)\n",
    "            print(f\"Unzipped {filename}\")\n",
    "\n",
    "\n",
    "if __name__ == \"__main__\":\n",
    "    url = \"https://www.pgnmentor.com/files.html#players\"\n",
    "    output_folder = \"../data/raw_data\"\n",
    "    file_type = \".zip\"\n",
    "    download_files(url, output_folder, file_type)\n",
    "    input_folder = \"../data/raw_data\"\n",
    "    output_folder = \"../data/20231001_raw_data\"\n",
    "    unzip_files(input_folder, output_folder)"
   ]
  },
  {
   "cell_type": "code",
   "execution_count": null,
   "metadata": {},
   "outputs": [],
   "source": [
    "import os\n",
    "\n",
    "import chess\n",
    "import chess.pgn\n",
    "import numpy as np\n",
    "from rich.progress import Progress\n",
    "from sklearn.model_selection import train_test_split\n",
    "\n",
    "\n",
    "def convert_data_from_realworld(input_path, output_path):\n",
    "    data = []\n",
    "    labels = []\n",
    "    filenames = [f for f in os.listdir(input_path) if f.endswith(\".pgn\")]\n",
    "    with Progress() as progress:\n",
    "        task = progress.add_task(\"[cyan]Processing PGN files...\", total=len(filenames))\n",
    "\n",
    "        for filename in filenames:\n",
    "            try:\n",
    "                with open(f\"{input_path}/{filename}\", encoding='utf-8') as pgn:\n",
    "                    last_event = \"\"\n",
    "                    last_result = \"\"\n",
    "                    while True:\n",
    "                        game = chess.pgn.read_game(pgn)\n",
    "                        if game is None:\n",
    "                            break  # End of file\n",
    "                        last_event = game.headers.get('Event', '')\n",
    "                        last_result = game.headers.get('Result', '')\n",
    "                        board = game.board()\n",
    "                        for move in game.mainline_moves():\n",
    "                            board.push(move)\n",
    "                            board_array = ChessData().convert(board)\n",
    "                            label = 1.0 if board.turn == chess.WHITE else 0.0  # 1 for white's turn, 0 for black\n",
    "                            data.append(board_array)\n",
    "                            labels.append(label)\n",
    "                progress.update(task, advance=1, description=f\"[cyan]Processing {filename}... Event: {last_event}, Result: {last_result}\")\n",
    "            except UnicodeDecodeError:\n",
    "                print(f\"Skipping {filename} due to UnicodeDecodeError.\")\n",
    "                progress.update(task, advance=1, description=f\"[cyan]Skipping {filename} due to UnicodeDecodeError.\")\n",
    "\n",
    "    # Adjust dimensions\n",
    "    data = np.array(data)\n",
    "    labels = np.array(labels)\n",
    "    data = np.transpose(data, (0, 3, 1, 2))\n",
    "    X_train, X_val, y_train, y_val = train_test_split(data, labels, test_size=0.2, random_state=42)\n",
    "\n",
    "    os.makedirs(output_path, exist_ok=True)\n",
    "    save_data(X_train, y_train, f\"{output_path}/train_cases.npz\")\n",
    "    save_data(X_val, y_val, f\"{output_path}/val_cases.npz\")\n",
    "\n",
    "    return X_train, X_val, y_train, y_val\n",
    "\n",
    "\n",
    "if __name__ == \"__main__\":\n",
    "    input_path = \"../data/mess_data\"\n",
    "    output_path = \"../data\"\n",
    "    convert_data_from_realworld(input_path, output_path)"
   ]
  },
  {
   "cell_type": "markdown",
   "metadata": {},
   "source": [
    "#### Generate Legitimate Chessboard\n",
    "\n",
    "This part will generate a legitimate chessboard for training by using `chess` library."
   ]
  },
  {
   "cell_type": "code",
   "execution_count": null,
   "metadata": {},
   "outputs": [],
   "source": [
    "import os\n",
    "import shutil\n",
    "\n",
    "import chess\n",
    "import numpy as np\n",
    "from rich.progress import Progress\n",
    "\n",
    "\n",
    "def generate_data(num_games, output_filename):\n",
    "    data = []\n",
    "    labels = []\n",
    "    folder_path = \"../data/temp\"\n",
    "    os.makedirs(folder_path, exist_ok=True)\n",
    "    save_interval = num_games * 0.2\n",
    "\n",
    "    with Progress() as progress:\n",
    "        task = progress.add_task(\"[cyan]Generating data...\", total=num_games)\n",
    "        for i in range(1, num_games + 1):\n",
    "            board = chess.Board()\n",
    "            while not board.is_game_over():\n",
    "                legal_moves = list(board.legal_moves)\n",
    "                move = np.random.choice(legal_moves)\n",
    "                board.push(move)\n",
    "                board_array = ChessData().convert(board)\n",
    "                label = 1.0 if board.turn == chess.WHITE else 0.0\n",
    "                data.append(board_array)\n",
    "                labels.append(label)\n",
    "            progress.update(task, advance=1)\n",
    "            if i % save_interval == 0:\n",
    "                data_array = np.array(data)\n",
    "                labels_array = np.array(labels)\n",
    "                data_array = np.transpose(data_array, (0, 3, 1, 2))\n",
    "\n",
    "                file_name = f\"{folder_path}/generated_cases_{i}.npz\"\n",
    "                save_data(data_array, labels_array, file_name)\n",
    "\n",
    "                data = []\n",
    "                labels = []\n",
    "    merge_saved_data(output_filename)\n",
    "    shutil.rmtree(folder_path)\n",
    "\n",
    "\n",
    "if __name__ == \"__main__\":\n",
    "    generate_data(50, \"../data/test_cases.npz\")"
   ]
  },
  {
   "cell_type": "markdown",
   "metadata": {},
   "source": [
    "#### Starting Training"
   ]
  },
  {
   "cell_type": "markdown",
   "metadata": {},
   "source": [
    "#### Basic Model"
   ]
  },
  {
   "cell_type": "code",
   "execution_count": null,
   "metadata": {},
   "outputs": [],
   "source": [
    "import torch\n",
    "import torch.nn as nn\n",
    "from lightning import LightningModule\n",
    "\n",
    "torch.set_float32_matmul_precision(\"high\")\n",
    "\n",
    "\n",
    "class ChessCNN(LightningModule):\n",
    "    def __init__(self):\n",
    "        super().__init__()\n",
    "\n",
    "        # Convolutional layers\n",
    "        self.conv1 = nn.Conv2d(12, 64, kernel_size=3, padding=1)\n",
    "        self.conv2 = nn.Conv2d(64, 128, kernel_size=3, padding=1)\n",
    "\n",
    "        # Fully connected layers\n",
    "        self.fc1 = nn.Linear(128 * 8 * 8, 256)\n",
    "        self.fc2 = nn.Linear(256, 1)\n",
    "\n",
    "    def forward(self, x):\n",
    "        x = torch.relu(self.conv1(x))\n",
    "        x = torch.relu(self.conv2(x))\n",
    "        x = x.view(x.size(0), -1)\n",
    "        x = torch.relu(self.fc1(x))\n",
    "        x = torch.sigmoid(self.fc2(x))\n",
    "        return x\n",
    "\n",
    "    def training_step(self, batch, batch_idx):\n",
    "        x, y = batch\n",
    "        y_hat = self(x)\n",
    "        loss = nn.BCELoss()(y_hat, y)\n",
    "        self.log('train_loss', loss)\n",
    "        return loss\n",
    "\n",
    "    def validation_step(self, batch, batch_idx):\n",
    "        x, y = batch\n",
    "        y_hat = self(x)\n",
    "        loss = nn.BCELoss()(y_hat, y)\n",
    "        self.log('val_loss', loss)\n",
    "        return loss\n",
    "\n",
    "    def test_step(self, batch, batch_idx):\n",
    "        x, y = batch\n",
    "        y_hat = self(x)\n",
    "        loss = nn.BCELoss()(y_hat, y)\n",
    "        self.log('test_loss', loss)\n",
    "        return loss\n",
    "\n",
    "    def configure_optimizers(self):\n",
    "        return torch.optim.Adam(self.parameters(), lr=0.001)"
   ]
  },
  {
   "cell_type": "markdown",
   "metadata": {},
   "source": [
    "#### DataLoader"
   ]
  },
  {
   "cell_type": "code",
   "execution_count": null,
   "metadata": {},
   "outputs": [],
   "source": [
    "import numpy as np\n",
    "import torch\n",
    "from lightning import Trainer\n",
    "\n",
    "# Create a DataLoader\n",
    "from torch.utils.data import DataLoader, TensorDataset\n",
    "\n",
    "\n",
    "class ChessDataLoader:\n",
    "    def __init__(self, data_path, batch_size=32, shuffle=True):\n",
    "        self.data_path = data_path\n",
    "        self.batch_size = batch_size\n",
    "        self.shuffle = shuffle\n",
    "\n",
    "    def load_data(self):\n",
    "        loaded_data = np.load(self.data_path)\n",
    "        train_data = loaded_data['data']\n",
    "        train_labels = loaded_data['labels']\n",
    "\n",
    "        # Convert to PyTorch tensors\n",
    "        train_data = torch.tensor(train_data).float()\n",
    "        train_labels = torch.tensor(train_labels).float().view(-1, 1)\n",
    "\n",
    "        train_dataset = TensorDataset(train_data, train_labels)\n",
    "        train_loader = DataLoader(train_dataset, batch_size=self.batch_size, shuffle=self.shuffle, num_workers=4)\n",
    "\n",
    "        return train_loader"
   ]
  },
  {
   "cell_type": "code",
   "execution_count": null,
   "metadata": {},
   "outputs": [],
   "source": [
    "import warnings\n",
    "\n",
    "warnings.filterwarnings(\"ignore\", category=UserWarning)\n",
    "\n",
    "batch_size = 32\n",
    "\n",
    "train_data_path = \"../data/train_cases.npz\"\n",
    "train_loader = ChessDataLoader(train_data_path, batch_size).load_data()\n",
    "\n",
    "val_data_path = \"../data/val_cases.npz\"\n",
    "# DO NOT shuffle the validation data\n",
    "val_loader = ChessDataLoader(val_data_path, batch_size, shuffle=False).load_data()\n",
    "\n",
    "# Initialize and train the model\n",
    "model = ChessCNN()\n",
    "trainer = Trainer(\n",
    "    accelerator = \"gpu\",\n",
    "    devices = [0],\n",
    "    strategy = \"auto\",\n",
    "    max_epochs=10,\n",
    "    # default_root_dir = \"../logs\"\n",
    "    logger=False\n",
    "    )\n",
    "trainer.fit(model, train_loader, val_loader)\n",
    "trainer.save_checkpoint(\"../logs/chess_model.ckpt\")"
   ]
  },
  {
   "cell_type": "markdown",
   "metadata": {},
   "source": [
    "#### Start a game"
   ]
  },
  {
   "cell_type": "code",
   "execution_count": null,
   "metadata": {},
   "outputs": [],
   "source": [
    "import chess\n",
    "import chess.svg\n",
    "import IPython.display as display\n",
    "import numpy as np\n",
    "import rootutils\n",
    "import torch\n",
    "\n",
    "rootutils.setup_root(os.path.abspath(\".\"), indicator=\".project-root\", pythonpath=True)\n",
    "from src.utils.chess_utils import ChessBoard, ChessGame, ChessMove"
   ]
  },
  {
   "cell_type": "markdown",
   "metadata": {},
   "source": [
    "#### Load Your Model\n",
    "\n",
    "- Given a path to your model like `chess_model.pth`"
   ]
  },
  {
   "cell_type": "code",
   "execution_count": null,
   "metadata": {},
   "outputs": [],
   "source": [
    "model_path = \"../logs/chess_model.ckpt\""
   ]
  },
  {
   "cell_type": "markdown",
   "metadata": {},
   "source": [
    "#### Self-Play\n",
    "\n",
    "- AI vs AI"
   ]
  },
  {
   "cell_type": "code",
   "execution_count": null,
   "metadata": {},
   "outputs": [],
   "source": [
    "model = ChessCNN.load_from_checkpoint(model_path)\n",
    "ChessGame(white_model = model, gpu = True).self_play(gui = True)"
   ]
  },
  {
   "cell_type": "markdown",
   "metadata": {},
   "source": [
    "#### Play with AI\n",
    "\n",
    "- You v.s. AI"
   ]
  },
  {
   "cell_type": "code",
   "execution_count": null,
   "metadata": {},
   "outputs": [],
   "source": [
    "model = ChessCNN.load_from_checkpoint(model_path)\n",
    "ChessGame(model, True).play_against_ai(gui = True)"
   ]
  },
  {
   "cell_type": "markdown",
   "metadata": {},
   "source": [
    "#### Solve a chess puzzle\n",
    "\n",
    "- Given a chessboard, find the best move for white."
   ]
  },
  {
   "cell_type": "code",
   "execution_count": null,
   "metadata": {},
   "outputs": [],
   "source": [
    "model = ChessCNN.load_from_checkpoint(model_path)\n",
    "\n",
    "board = chess.Board(\"8/1K6/8/1P6/2rpP3/2P5/8/8 b - - 0 1\")\n",
    "best_move = ChessGame(model, True).solve_puzzle(board = board, gui = True)\n",
    "print(f\"模型推薦的移動是：{best_move}\")"
   ]
  }
 ],
 "metadata": {
  "kernelspec": {
   "display_name": "base",
   "language": "python",
   "name": "python3"
  },
  "language_info": {
   "codemirror_mode": {
    "name": "ipython",
    "version": 3
   },
   "file_extension": ".py",
   "mimetype": "text/x-python",
   "name": "python",
   "nbconvert_exporter": "python",
   "pygments_lexer": "ipython3",
   "version": "3.11.5"
  }
 },
 "nbformat": 4,
 "nbformat_minor": 2
}
