{
 "cells": [
  {
   "cell_type": "code",
   "execution_count": null,
   "metadata": {},
   "outputs": [],
   "source": [
    "import random\n",
    "\n",
    "import autorootcwd\n",
    "import chess\n",
    "import chess.svg\n",
    "\n",
    "from src.models.components.mcts import MCTSNodeSelfPlay, monte_carlo_tree_search\n",
    "from src.utils.chess_utils import ChessBoard\n",
    "\n",
    "board = chess.Board()\n",
    "while not board.is_game_over():\n",
    "    if board.turn == chess.WHITE:\n",
    "        move = monte_carlo_tree_search(MCTSNodeSelfPlay(board), 1000)\n",
    "    else:\n",
    "        move = monte_carlo_tree_search(MCTSNodeSelfPlay(board), 1000)\n",
    "        # move = input(\"Enter your move: \")\n",
    "        # move = chess.Move.from_uci(move)\n",
    "    board.push(move)\n",
    "    ChessBoard().show(board, False)"
   ]
  }
 ],
 "metadata": {
  "kernelspec": {
   "display_name": "torch2",
   "language": "python",
   "name": "python3"
  },
  "language_info": {
   "codemirror_mode": {
    "name": "ipython",
    "version": 3
   },
   "file_extension": ".py",
   "mimetype": "text/x-python",
   "name": "python",
   "nbconvert_exporter": "python",
   "pygments_lexer": "ipython3",
   "version": "3.10.13"
  }
 },
 "nbformat": 4,
 "nbformat_minor": 2
}
