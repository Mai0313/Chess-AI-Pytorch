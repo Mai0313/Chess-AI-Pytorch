{
 "cells": [
  {
   "cell_type": "code",
   "execution_count": null,
   "metadata": {},
   "outputs": [],
   "source": [
    "import random\n",
    "\n",
    "import autorootcwd\n",
    "import chess\n",
    "import chess.svg\n",
    "\n",
    "from src.data.components.convert import ChessConverter\n",
    "from src.models.components.mcts import MCTSNode, monte_carlo_tree_search\n",
    "from src.utils.chess_utils import ChessBoard\n",
    "\n",
    "\n",
    "def mcts_play(show_gui: bool):\n",
    "    board = chess.Board()\n",
    "    while not board.is_game_over():\n",
    "        if board.turn == chess.WHITE:\n",
    "            node = MCTSNode(board)\n",
    "            move = monte_carlo_tree_search(node, 1000)\n",
    "        else:\n",
    "            node = MCTSNode(board)\n",
    "            move = monte_carlo_tree_search(node, 1000)\n",
    "        board.push(move)\n",
    "        state = ChessConverter().convert_array(board)\n",
    "        fen_state = board.fen()\n",
    "        policy = [0] * len(list(board.legal_moves))\n",
    "        for index, child in enumerate(node.children):\n",
    "            policy[index] = child.visits / node.visits\n",
    "        ChessBoard().show(board, show_gui)\n",
    "\n",
    "\n",
    "if __name__ == \"__main__\":\n",
    "    mcts_play(show_gui=True)"
   ]
  },
  {
   "cell_type": "code",
   "execution_count": null,
   "metadata": {},
   "outputs": [],
   "source": [
    "import autorootcwd\n",
    "\n",
    "from src.models.components.mcts import MCTSModel\n",
    "\n",
    "manager = MCTSModel()\n",
    "manager.self_play(False, \"data/train_dataset\")# To start another game"
   ]
  },
  {
   "cell_type": "code",
   "execution_count": null,
   "metadata": {},
   "outputs": [],
   "source": []
  }
 ],
 "metadata": {
  "kernelspec": {
   "display_name": "torch2",
   "language": "python",
   "name": "python3"
  },
  "language_info": {
   "codemirror_mode": {
    "name": "ipython",
    "version": 3
   },
   "file_extension": ".py",
   "mimetype": "text/x-python",
   "name": "python",
   "nbconvert_exporter": "python",
   "pygments_lexer": "ipython3",
   "version": "3.11.5"
  }
 },
 "nbformat": 4,
 "nbformat_minor": 2
}
