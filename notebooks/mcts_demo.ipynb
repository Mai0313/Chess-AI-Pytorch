{
 "cells": [
  {
   "cell_type": "code",
   "execution_count": null,
   "metadata": {},
   "outputs": [],
   "source": [
    "import random\n",
    "\n",
    "import autorootcwd\n",
    "import chess\n",
    "import chess.svg\n",
    "import torch\n",
    "\n",
    "from src.data.components.convert import ChessConverter\n",
    "from src.models.components.mcts import MCTSNode, monte_carlo_tree_search\n",
    "from src.utils.chess_utils import ChessBoard, ChessGame\n",
    "from src.utils.model_loader import load_model_from_path\n",
    "\n",
    "\n",
    "def mcts_play(show_gui: bool, model_instance: torch.nn.Module):\n",
    "    board = chess.Board()\n",
    "    data = []\n",
    "    while not board.is_game_over():\n",
    "        if board.turn == chess.WHITE:\n",
    "            node = MCTSNode(board, None, None, model_instance)\n",
    "            move = monte_carlo_tree_search(node, 1000)\n",
    "        else:\n",
    "            node = MCTSNode(board, None, None, model_instance)\n",
    "            move = monte_carlo_tree_search(node, 1000)\n",
    "        board.push(move)\n",
    "        ChessBoard().show(board, show_gui)\n",
    "\n",
    "\n",
    "if __name__ == \"__main__\":\n",
    "    log_directory_v1 = \"./logs/md3_alpha_zero/runs/2023-10-07_18-34-35\"\n",
    "    model_instance = load_model_from_path(log_directory_v1)\n",
    "    lc0_path = \"engine/lc0/lc0\"\n",
    "    lc0_model_path = \"engine/lc0_model/t2-768x15x24h-swa-5230000.pb\"\n",
    "    ChessGame(white_model = model_instance, gpu = True, mcts = True).model_vs_lc0(gui = True, lc0_path = lc0_path, lc0_model_path = lc0_model_path)\n",
    "    mcts_play(show_gui=True, model_instance=model_instance)"
   ]
  },
  {
   "cell_type": "code",
   "execution_count": null,
   "metadata": {},
   "outputs": [],
   "source": []
  }
 ],
 "metadata": {
  "kernelspec": {
   "display_name": "torch2",
   "language": "python",
   "name": "python3"
  },
  "language_info": {
   "codemirror_mode": {
    "name": "ipython",
    "version": 3
   },
   "file_extension": ".py",
   "mimetype": "text/x-python",
   "name": "python",
   "nbconvert_exporter": "python",
   "pygments_lexer": "ipython3",
   "version": "3.11.5"
  }
 },
 "nbformat": 4,
 "nbformat_minor": 2
}
