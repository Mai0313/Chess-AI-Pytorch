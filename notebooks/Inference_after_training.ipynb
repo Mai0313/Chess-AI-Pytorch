{
 "cells": [
  {
   "cell_type": "markdown",
   "metadata": {},
   "source": [
    "#### Check if the model is stable and reliable"
   ]
  },
  {
   "cell_type": "code",
   "execution_count": null,
   "metadata": {},
   "outputs": [],
   "source": [
    "import os\n",
    "from collections import OrderedDict\n",
    "\n",
    "import chess\n",
    "import chess.svg\n",
    "import hydra\n",
    "import IPython.display as display\n",
    "import numpy as np\n",
    "import rootutils\n",
    "import torch\n",
    "from omegaconf import OmegaConf\n",
    "\n",
    "# set root\n",
    "rootutils.setup_root(os.path.abspath(\".\"), indicator=\".project-root\", pythonpath=True)\n",
    "\n",
    "\n",
    "def board_to_array(board):\n",
    "    # Initialize an empty array to represent the board\n",
    "    board_array = np.zeros((8, 8, 12), dtype=np.float32)\n",
    "\n",
    "    # Mapping of piece types to index in the third dimension of the board_array\n",
    "    piece_idx = {'p': 0, 'P': 6, 'n': 1, 'N': 7, 'b': 2, 'B': 8, 'r': 3, 'R': 9, 'q': 4, 'Q': 10, 'k': 5, 'K': 11}\n",
    "\n",
    "    for i in range(8):\n",
    "        for j in range(8):\n",
    "            square = 8 * (7 - j) + i  # Calculate square index\n",
    "            piece = board.piece_at(square)\n",
    "            if piece:\n",
    "                board_array[j, i, piece_idx[piece.symbol()]] = 1.0\n",
    "    return board_array\n",
    "\n",
    "def model_recommends_move(model, board):\n",
    "    best_move = choose_move(model, board)\n",
    "    return best_move\n",
    "\n",
    "def show_and_move(board, move):\n",
    "    board.push(move)\n",
    "    show_board(board)\n",
    "\n",
    "def choose_move(model, board):\n",
    "    best_move = None\n",
    "    best_value = -1.0  # Initialize with a low value\n",
    "\n",
    "    for move in board.legal_moves:\n",
    "        board.push(move)\n",
    "        board_array = board_to_array(board)\n",
    "        board_array = np.transpose(board_array, (2, 0, 1))\n",
    "        board_array = torch.tensor(board_array).float().unsqueeze(0)\n",
    "        value = model(board_array).item()\n",
    "        board.pop()\n",
    "        if value > best_value:\n",
    "            best_value = value\n",
    "            best_move = move\n",
    "    return best_move\n",
    "\n",
    "\n",
    "def show_board(board):\n",
    "    board_svg = chess.svg.board(board=board, size=300)\n",
    "    display.clear_output(wait=True)  # 清除舊的棋盤\n",
    "    display.display(display.HTML(board_svg))\n",
    "\n",
    "def self_play(model, show_board_option=False):\n",
    "    board = chess.Board()\n",
    "    while not board.is_game_over():\n",
    "        move = choose_move(model, board)\n",
    "        board.push(move)\n",
    "        if show_board_option:\n",
    "            show_board(board)\n",
    "\n",
    "\n",
    "def play_against_ai(model):\n",
    "    board = chess.Board()\n",
    "    while not board.is_game_over():\n",
    "        show_board(board)\n",
    "\n",
    "        valid_move = False\n",
    "        while not valid_move:\n",
    "            try:\n",
    "                human_move = input(\"Enter your move: \")\n",
    "                if human_move == \"q\" or human_move == \"quit\" or human_move == \"exit\":\n",
    "                    return\n",
    "                board.push_san(human_move)\n",
    "                valid_move = True\n",
    "                show_board(board)\n",
    "            except ValueError:\n",
    "                print(\"Invalid move. Please enter a valid move.\")\n",
    "\n",
    "        if not board.is_game_over():\n",
    "            model_move = choose_move(model, board)\n",
    "            board.push(model_move)\n",
    "            print(f\"Model's move: {model_move}\")\n",
    "            show_board(board)\n",
    "\n",
    "\n",
    "def get_correct_state_dict(state_dict):\n",
    "    new_state_dict = {}\n",
    "    for k, v in state_dict.items():\n",
    "        name = k.replace(\"net.\", \"\")  # remove \"net.\" from the keys\n",
    "        new_state_dict[name] = v\n",
    "    return new_state_dict\n",
    "\n",
    "\n",
    "def get_tempfix_for_torch(ckpt):\n",
    "    \"\"\"TODO(mai0313): remove _orig_mod. from the state_dict due to pytorch issue #101107.\n",
    "\n",
    "    Ref: https://discuss.pytorch.org/t/how-to-save-load-a-model-with-torch-compile/179739/2\n",
    "         https://github.com/pytorch/pytorch/issues/101107#issuecomment-1542688089\n",
    "    In short, when you train a model with torch.compile, it will add _orig_mod. to the state_dict, which is not what we need;\n",
    "    So we just simply remove it.\n",
    "    \"\"\"\n",
    "    new_dict = OrderedDict()\n",
    "    for k, v in ckpt[\"state_dict\"].items():\n",
    "        name = k.replace(\"_orig_mod.\", \"\")\n",
    "        new_dict[name] = v\n",
    "    return new_dict"
   ]
  },
  {
   "cell_type": "markdown",
   "metadata": {},
   "source": [
    "#### Load The Model You Just Trained\n",
    "\n",
    "- Given a path to your `Log` like `../logs/chess_md1/runs/2023-10-01_04-22-25`"
   ]
  },
  {
   "cell_type": "code",
   "execution_count": null,
   "metadata": {},
   "outputs": [],
   "source": [
    "log_directory = \"../logs/chess_md1/runs/2023-10-01_18-33-08\"\n",
    "\n",
    "# no need to change\n",
    "ckpt_path = f\"{log_directory}/checkpoints/last.ckpt\"\n",
    "model_config = OmegaConf.load(f\"{log_directory}/.hydra/config.yaml\")\n",
    "compile_option = model_config.model.compile\n",
    "\n",
    "if compile_option:\n",
    "    model_instance = hydra.utils.instantiate(model_config.model)\n",
    "    checkpoint = torch.load(ckpt_path)\n",
    "    fixed_state_dict = get_tempfix_for_torch(checkpoint)\n",
    "    model_instance.load_state_dict(fixed_state_dict)\n",
    "else:\n",
    "    model_instance = hydra.utils.instantiate(model_config.model)\n",
    "    model_instance.load_from_checkpoint(ckpt_path)"
   ]
  },
  {
   "cell_type": "markdown",
   "metadata": {},
   "source": [
    "#### Self-Play\n",
    "\n",
    "- AI vs AI"
   ]
  },
  {
   "cell_type": "code",
   "execution_count": null,
   "metadata": {},
   "outputs": [],
   "source": [
    "self_play(model_instance, True)"
   ]
  },
  {
   "cell_type": "markdown",
   "metadata": {},
   "source": [
    "#### Play with AI\n",
    "\n",
    "- You v.s. AI"
   ]
  },
  {
   "cell_type": "code",
   "execution_count": null,
   "metadata": {},
   "outputs": [],
   "source": [
    "play_against_ai(model_instance)"
   ]
  },
  {
   "cell_type": "markdown",
   "metadata": {},
   "source": [
    "#### Solve a chess puzzle\n",
    "\n",
    "- Given a chessboard, find the best move for white."
   ]
  },
  {
   "cell_type": "code",
   "execution_count": null,
   "metadata": {},
   "outputs": [],
   "source": [
    "board = chess.Board(\"rnbqkbnr/pppppppp/8/8/8/8/PPPPPPPP/RNBQKBNR w KQkq - 0 1\")\n",
    "best_move = model_recommends_move(model_instance, board)\n",
    "print(f\"模型推薦的移動是：{best_move}\")\n",
    "\n",
    "show_and_move(board, best_move)"
   ]
  }
 ],
 "metadata": {
  "kernelspec": {
   "display_name": "chess",
   "language": "python",
   "name": "python3"
  },
  "language_info": {
   "codemirror_mode": {
    "name": "ipython",
    "version": 3
   },
   "file_extension": ".py",
   "mimetype": "text/x-python",
   "name": "python",
   "nbconvert_exporter": "python",
   "pygments_lexer": "ipython3",
   "version": "3.10.13"
  }
 },
 "nbformat": 4,
 "nbformat_minor": 2
}
