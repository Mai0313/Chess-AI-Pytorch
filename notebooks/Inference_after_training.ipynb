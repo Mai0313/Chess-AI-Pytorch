{
 "cells": [
  {
   "cell_type": "markdown",
   "metadata": {},
   "source": [
    "#### Check if the model is stable and reliable"
   ]
  },
  {
   "cell_type": "code",
   "execution_count": 1,
   "metadata": {},
   "outputs": [],
   "source": [
    "import os\n",
    "\n",
    "import rootutils\n",
    "\n",
    "rootutils.setup_root(os.path.abspath(\".\"), indicator=\".project-root\", pythonpath=True)\n",
    "\n",
    "from src.utils.chess_utils import ChessBoard, ChessData, ChessGame, ChessMove\n",
    "from src.utils.model_loader import load_model_from_path"
   ]
  },
  {
   "cell_type": "markdown",
   "metadata": {},
   "source": [
    "#### Enter the path of your logs\n",
    "\n",
    "- `logs_path = '../logs/2020-05-20_15-00-00'`"
   ]
  },
  {
   "cell_type": "code",
   "execution_count": 3,
   "metadata": {},
   "outputs": [],
   "source": [
    "log_directory_v1 = \"../logs/md3_alpha_zero/runs/2023-10-07_18-34-35\"\n",
    "log_directory_v2 = \"../logs/chess_md2/runs/2023-10-01_22-54-38\""
   ]
  },
  {
   "cell_type": "markdown",
   "metadata": {},
   "source": [
    "#### Self-Play\n",
    "\n",
    "- AI vs AI"
   ]
  },
  {
   "cell_type": "code",
   "execution_count": null,
   "metadata": {},
   "outputs": [],
   "source": [
    "model_instance = load_model_from_path(log_directory_v1)\n",
    "ChessGame(white_model = model_instance, gpu = True, mcts = True).self_play(gui = True)"
   ]
  },
  {
   "cell_type": "markdown",
   "metadata": {},
   "source": [
    "#### Model vs Stockfish\n",
    "\n",
    "- This function allows you to see if your model is better than Stockfish"
   ]
  },
  {
   "cell_type": "code",
   "execution_count": null,
   "metadata": {},
   "outputs": [],
   "source": [
    "model_instance = load_model_from_path(log_directory_v1)\n",
    "ChessGame(white_model = model_instance, gpu = True, mcts = True).model_vs_stockfish(gui = True, stockfish_path = \"../stockfish_linux/stockfish-ubuntu-x86-64-avx2\", cpu_nums = 8)"
   ]
  },
  {
   "cell_type": "markdown",
   "metadata": {},
   "source": [
    "#### Self-Play Version 2\n",
    "\n",
    "- This is for model 1 vs model 2"
   ]
  },
  {
   "cell_type": "code",
   "execution_count": null,
   "metadata": {},
   "outputs": [],
   "source": [
    "model_instance = load_model_from_path(log_directory_v1)\n",
    "model_instance_2 = load_model_from_path(log_directory_v2)\n",
    "\n",
    "ChessGame(white_model = model_instance, gpu = True, mcts = True).model_vs_model(model_instance_2, True)"
   ]
  },
  {
   "cell_type": "markdown",
   "metadata": {},
   "source": [
    "#### Play with AI\n",
    "\n",
    "- You v.s. AI"
   ]
  },
  {
   "cell_type": "code",
   "execution_count": null,
   "metadata": {},
   "outputs": [],
   "source": [
    "model_instance = load_model_from_path(log_directory_v1)\n",
    "ChessGame(white_model = model_instance, gpu = True, mcts = True).play_against_ai(gui = True)"
   ]
  },
  {
   "cell_type": "markdown",
   "metadata": {},
   "source": [
    "#### Solve a chess puzzle\n",
    "\n",
    "- Given a chessboard, find the best move for white."
   ]
  },
  {
   "cell_type": "code",
   "execution_count": null,
   "metadata": {},
   "outputs": [],
   "source": [
    "import chess\n",
    "\n",
    "model_instance = load_model_from_path(log_directory_v1)\n",
    "\n",
    "board = chess.Board(\"8/1K6/8/1P6/2rpP3/2P5/8/8 b - - 0 1\")\n",
    "best_move = ChessGame(model_instance, True).solve_puzzle(board = board, gui = True)\n",
    "print(f\"模型推薦的移動是：{best_move}\")"
   ]
  },
  {
   "cell_type": "code",
   "execution_count": null,
   "metadata": {},
   "outputs": [],
   "source": []
  }
 ],
 "metadata": {
  "kernelspec": {
   "display_name": "chess",
   "language": "python",
   "name": "python3"
  },
  "language_info": {
   "codemirror_mode": {
    "name": "ipython",
    "version": 3
   },
   "file_extension": ".py",
   "mimetype": "text/x-python",
   "name": "python",
   "nbconvert_exporter": "python",
   "pygments_lexer": "ipython3",
   "version": "3.11.5"
  }
 },
 "nbformat": 4,
 "nbformat_minor": 2
}
