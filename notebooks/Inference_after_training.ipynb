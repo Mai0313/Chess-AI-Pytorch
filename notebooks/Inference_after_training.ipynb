{
 "cells": [
  {
   "cell_type": "markdown",
   "metadata": {},
   "source": [
    "#### Check if the model is stable and reliable"
   ]
  },
  {
   "cell_type": "code",
   "execution_count": null,
   "metadata": {},
   "outputs": [],
   "source": [
    "import torch\n",
    "import torch.nn as nn\n",
    "import torch.optim as optim\n",
    "from lightning import LightningModule, Trainer\n",
    "\n",
    "# Create a DataLoader\n",
    "from torch.utils.data import DataLoader, TensorDataset\n",
    "\n",
    "# Generate some training data\n",
    "train_data, train_labels = generate_data()\n",
    "\n",
    "# Convert to PyTorch tensors\n",
    "train_data = torch.tensor(train_data).float()\n",
    "train_labels = torch.tensor(train_labels).float().view(-1, 1)\n",
    "\n",
    "train_dataset = TensorDataset(train_data, train_labels)\n",
    "train_loader = DataLoader(train_dataset, batch_size=32, shuffle=True)\n",
    "\n",
    "# Initialize and train the model\n",
    "model = ChessCNN()\n",
    "trainer = Trainer(max_epochs=10)\n",
    "trainer.fit(model, train_loader)\n",
    "# Assuming `trainer` is your Trainer object\n",
    "trainer.save_checkpoint(\"chess_model.ckpt\")"
   ]
  }
 ],
 "metadata": {
  "kernelspec": {
   "display_name": "chess",
   "language": "python",
   "name": "python3"
  },
  "language_info": {
   "name": "python",
   "version": "3.10.13"
  },
  "orig_nbformat": 4
 },
 "nbformat": 4,
 "nbformat_minor": 2
}
